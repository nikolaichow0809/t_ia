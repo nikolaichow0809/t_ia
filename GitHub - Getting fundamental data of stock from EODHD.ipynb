{
 "cells": [
  {
   "cell_type": "markdown",
   "id": "9fa13843",
   "metadata": {},
   "source": [
    "This notes is modified based on https://towardsdatascience.com/a-simple-way-to-get-a-stocks-fundamental-data-26506adf1214"
   ]
  },
  {
   "cell_type": "code",
   "execution_count": 16,
   "id": "dd1cf650",
   "metadata": {},
   "outputs": [],
   "source": [
    "# !pip install eod"
   ]
  },
  {
   "cell_type": "markdown",
   "id": "4536865f",
   "metadata": {},
   "source": [
    "We will use the following imports:"
   ]
  },
  {
   "cell_type": "code",
   "execution_count": 42,
   "id": "db996b4b",
   "metadata": {},
   "outputs": [],
   "source": [
    "# Libraries\n",
    "import pandas as pd\n",
    "from eod import EodHistoricalData\n",
    "from functools import reduce\n",
    "from datetime import datetime, timedelta\n",
    "\n",
    "    \n",
    "# EOD Historical Data client\n",
    "#Enter you api key here\n",
    "client = EodHistoricalData(\"your api key\")"
   ]
  },
  {
   "cell_type": "code",
   "execution_count": 43,
   "id": "759a62fb",
   "metadata": {},
   "outputs": [],
   "source": [
    "def getFundamentals(ticker):\n",
    "    \"\"\"\n",
    "    Returns the fundamental data from the financial data API.  Combines the quarterly balance \n",
    "    sheet, cash flow, income statement, and earnings for a specific stock ticker.\n",
    "    \"\"\"\n",
    "    \n",
    "    # Getting data\n",
    "    fund_data = client.get_fundamental_equity(ticker)\n",
    "    \n",
    "    # Financials\n",
    "    bal = pd.DataFrame(fund_data['Financials']['Balance_Sheet']['yearly']).T\n",
    "    \n",
    "    cf = pd.DataFrame(fund_data['Financials']['Cash_Flow']['yearly']).T\n",
    "    \n",
    "    inc = pd.DataFrame(fund_data['Financials']['Income_Statement']['yearly']).T\n",
    "    \n",
    "    # Earnings\n",
    "    earn = pd.DataFrame(fund_data['Earnings']['History']).T\n",
    "    \n",
    "    # Merging them together\n",
    "    df = reduce(\n",
    "        lambda left,right: pd.merge(\n",
    "            left,\n",
    "            right,\n",
    "            left_index=True, \n",
    "            right_index=True, \n",
    "            how='outer',\n",
    "            suffixes=('', '_drop')\n",
    "        ), \n",
    "        [bal, cf, inc, earn]\n",
    "    )\n",
    "    \n",
    "    # Dropping redundant date and duplicate columns\n",
    "    dup_cols = [i for i in df.columns if \"date\" in i or \"Date\" in i or \"_drop\" in i]\n",
    "    \n",
    "    df = df.drop(dup_cols, axis=1)\n",
    "    \n",
    "    return df"
   ]
  },
  {
   "cell_type": "markdown",
   "id": "789fe0d1",
   "metadata": {},
   "source": [
    "The getFundamentals() function is used to retrieve fundamental data for a specific stock ticker from a financial data API. The function takes in a single argument, ticker, which is the stock ticker symbol for the company whose data is being retrieved.\n",
    "\n",
    "The function begins by using the client.get_fundamental_equity(ticker) method to retrieve the fundamental data for the specified ticker. This data is stored in a variable called fund_data.\n",
    "\n",
    "Next, the function extracts the balance sheet, cash flow, and income statement data from fund_data and stores them in separate variables (bal, cf, and inc respectively). These variables are Pandas DataFrames containing the yearly financial data for the company.\n",
    "\n",
    "The function also extracts the earnings data from fund_data and stores it in a variable called earn. This variable is also a Pandas DataFrame.\n",
    "\n",
    "The function then uses the pd.merge() function to combine the data stored in bal, cf, inc, and earn into a single DataFrame called df. The reduce() function is used to apply the merge operation repeatedly to the four DataFrames.\n",
    "\n",
    "Finally, the function drops any columns that contain the string \"date\" or \"Date\" in the column name and any duplicate columns by using df.drop(). It then returns the resulting DataFrame."
   ]
  },
  {
   "cell_type": "code",
   "execution_count": 44,
   "id": "b99b5076",
   "metadata": {},
   "outputs": [],
   "source": [
    "# Enter Stock code here\n",
    "Stock_code = \"MSFT\"\n",
    "\n",
    "msft_fundamentals = getFundamentals(Stock_code)\n",
    "msft_fundamentals = msft_fundamentals.drop(columns=['currency_symbol', 'beforeAfterMarket', 'currency'])"
   ]
  },
  {
   "cell_type": "code",
   "execution_count": 45,
   "id": "aedf9b0f",
   "metadata": {},
   "outputs": [],
   "source": [
    "pd.options.display.float_format = '{:,.2f}'.format\n",
    "msft_fundamentals = msft_fundamentals.astype(float)\n",
    "msft_fundamentals.index = pd.to_datetime(msft_fundamentals.index)\n",
    "msft_fundamentals = msft_fundamentals.resample('Y').sum()"
   ]
  },
  {
   "cell_type": "code",
   "execution_count": 47,
   "id": "a1911cfb",
   "metadata": {},
   "outputs": [
    {
     "name": "stdout",
     "output_type": "stream",
     "text": [
      "                  totalAssets  intangibleAssets  earningAssets  \\\n",
      "2014-12-31 172,384,000,000.00  6,981,000,000.00           0.00   \n",
      "2015-12-31 176,223,000,000.00  4,835,000,000.00           0.00   \n",
      "2016-12-31 193,694,000,000.00  3,733,000,000.00           0.00   \n",
      "2017-12-31 241,086,000,000.00 10,106,000,000.00           0.00   \n",
      "2018-12-31 258,848,000,000.00  8,053,000,000.00           0.00   \n",
      "2019-12-31 286,556,000,000.00  7,750,000,000.00           0.00   \n",
      "2020-12-31 301,311,000,000.00  7,038,000,000.00           0.00   \n",
      "2021-12-31 333,779,000,000.00  7,800,000,000.00           0.00   \n",
      "2022-12-31 364,840,000,000.00 11,298,000,000.00           0.00   \n",
      "2023-12-31               0.00              0.00           0.00   \n",
      "\n",
      "            otherCurrentAssets          totalLiab  totalStockholderEquity  \\\n",
      "2014-12-31    6,333,000,000.00  82,600,000,000.00       89,784,000,000.00   \n",
      "2015-12-31    7,376,000,000.00  96,140,000,000.00       80,083,000,000.00   \n",
      "2016-12-31    5,892,000,000.00 121,697,000,000.00       71,997,000,000.00   \n",
      "2017-12-31    4,897,000,000.00 168,692,000,000.00       72,394,000,000.00   \n",
      "2018-12-31    6,751,000,000.00 176,130,000,000.00       82,718,000,000.00   \n",
      "2019-12-31   10,146,000,000.00 184,226,000,000.00      102,330,000,000.00   \n",
      "2020-12-31   11,482,000,000.00 183,007,000,000.00      118,304,000,000.00   \n",
      "2021-12-31   13,393,000,000.00 191,791,000,000.00      141,988,000,000.00   \n",
      "2022-12-31   16,932,000,000.00 198,298,000,000.00      166,542,000,000.00   \n",
      "2023-12-31                0.00               0.00                    0.00   \n",
      "\n",
      "            deferredLongTermLiab  otherCurrentLiab       commonStock  \\\n",
      "2014-12-31      4,736,000,000.00 13,043,000,000.00 68,366,000,000.00   \n",
      "2015-12-31      4,930,000,000.00 12,560,000,000.00 68,465,000,000.00   \n",
      "2016-12-31      7,917,000,000.00 12,087,000,000.00 68,178,000,000.00   \n",
      "2017-12-31     10,908,000,000.00 12,914,000,000.00 69,315,000,000.00   \n",
      "2018-12-31        541,000,000.00 16,968,000,000.00 71,223,000,000.00   \n",
      "2019-12-31        233,000,000.00 16,181,000,000.00 78,520,000,000.00   \n",
      "2020-12-31        204,000,000.00 17,901,000,000.00 80,552,000,000.00   \n",
      "2021-12-31        198,000,000.00 21,723,000,000.00 83,111,000,000.00   \n",
      "2022-12-31        230,000,000.00 23,728,000,000.00 86,939,000,000.00   \n",
      "2023-12-31                  0.00              0.00              0.00   \n",
      "\n",
      "                capitalStock  ...     costOfRevenue  \\\n",
      "2014-12-31              0.00  ... 26,934,000,000.00   \n",
      "2015-12-31              0.00  ... 33,038,000,000.00   \n",
      "2016-12-31              0.00  ... 32,780,000,000.00   \n",
      "2017-12-31              0.00  ... 34,261,000,000.00   \n",
      "2018-12-31              0.00  ... 38,353,000,000.00   \n",
      "2019-12-31 78,520,000,000.00  ... 42,910,000,000.00   \n",
      "2020-12-31 80,552,000,000.00  ... 46,078,000,000.00   \n",
      "2021-12-31 83,111,000,000.00  ... 52,232,000,000.00   \n",
      "2022-12-31 86,939,000,000.00  ... 62,650,000,000.00   \n",
      "2023-12-31              0.00  ...              0.00   \n",
      "\n",
      "            totalOtherIncomeExpenseNet  discontinuedOperations  \\\n",
      "2014-12-31               61,000,000.00                    0.00   \n",
      "2015-12-31              346,000,000.00                    0.00   \n",
      "2016-12-31             -431,000,000.00                    0.00   \n",
      "2017-12-31              823,000,000.00                    0.00   \n",
      "2018-12-31            1,416,000,000.00                    0.00   \n",
      "2019-12-31              729,000,000.00                    0.00   \n",
      "2020-12-31               77,000,000.00                    0.00   \n",
      "2021-12-31            1,186,000,000.00                    0.00   \n",
      "2022-12-31              333,000,000.00                    0.00   \n",
      "2023-12-31                        0.00                    0.00   \n",
      "\n",
      "            netIncomeFromContinuingOps  netIncomeApplicableToCommonShares  \\\n",
      "2014-12-31           22,074,000,000.00                  22,074,000,000.00   \n",
      "2015-12-31           12,193,000,000.00                  12,193,000,000.00   \n",
      "2016-12-31           16,798,000,000.00                  16,798,000,000.00   \n",
      "2017-12-31           21,204,000,000.00                  21,204,000,000.00   \n",
      "2018-12-31           16,571,000,000.00                  16,571,000,000.00   \n",
      "2019-12-31           39,240,000,000.00                  39,240,000,000.00   \n",
      "2020-12-31           44,281,000,000.00                  44,281,000,000.00   \n",
      "2021-12-31           61,271,000,000.00                  61,271,000,000.00   \n",
      "2022-12-31           72,738,000,000.00                  72,738,000,000.00   \n",
      "2023-12-31                        0.00                               0.00   \n",
      "\n",
      "            preferredStockAndOtherAdjustments  epsActual  epsEstimate  \\\n",
      "2014-12-31                               0.00       2.48         2.43   \n",
      "2015-12-31                               0.00       2.66         2.37   \n",
      "2016-12-31                               0.00       2.90         2.69   \n",
      "2017-12-31                               0.00       3.51         3.00   \n",
      "2018-12-31                               0.00       4.32         3.98   \n",
      "2019-12-31                               0.00       5.40         4.78   \n",
      "2020-12-31                               0.00       6.71         5.78   \n",
      "2021-12-31                               0.00       8.95         8.09   \n",
      "2022-12-31                               0.00       6.80         9.09   \n",
      "2023-12-31                               0.00       0.00         2.35   \n",
      "\n",
      "            epsDifference  surprisePercent  \n",
      "2014-12-31           0.05             9.81  \n",
      "2015-12-31           0.29            50.17  \n",
      "2016-12-31           0.21            32.67  \n",
      "2017-12-31           0.51            69.33  \n",
      "2018-12-31           0.34            36.06  \n",
      "2019-12-31           0.62            52.02  \n",
      "2020-12-31           0.93            62.03  \n",
      "2021-12-31           0.86            43.56  \n",
      "2022-12-31           0.02             0.92  \n",
      "2023-12-31           0.00             0.00  \n",
      "\n",
      "[10 rows x 122 columns]\n"
     ]
    }
   ],
   "source": [
    "print(msft_fundamentals[-10:])"
   ]
  }
 ],
 "metadata": {
  "kernelspec": {
   "display_name": "Python 3 (ipykernel)",
   "language": "python",
   "name": "python3"
  },
  "language_info": {
   "codemirror_mode": {
    "name": "ipython",
    "version": 3
   },
   "file_extension": ".py",
   "mimetype": "text/x-python",
   "name": "python",
   "nbconvert_exporter": "python",
   "pygments_lexer": "ipython3",
   "version": "3.9.7"
  }
 },
 "nbformat": 4,
 "nbformat_minor": 5
}
